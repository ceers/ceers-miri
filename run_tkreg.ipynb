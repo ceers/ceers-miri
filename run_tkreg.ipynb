{
 "cells": [
  {
   "cell_type": "code",
   "execution_count": 1,
   "id": "7f9208cb",
   "metadata": {},
   "outputs": [],
   "source": [
    "def run_tkreg(dms, img3, cr_sigclip=0, run2=True):\n",
    "    # Set tweakreg parameters\n",
    "    img3.tweakreg.tolerance = 0.5\n",
    "    img3.tweakreg.searchrad = 1\n",
    "    img3.tweakreg.separation = 0.01\n",
    "    \n",
    "    # Detect sources for each DM\n",
    "    srcs = []\n",
    "    for dm_idx, dm in enumerate(dms):\n",
    "        # Here, we still use the original image to avoid border effect\n",
    "        # we only select high-S/N sources for accurate astrometry\n",
    "        src, _, _, _, _ = det_src(dm, sigma_threshold=2, \n",
    "                                  clean_edge=True, cr_sigclip=cr_sigclip)\n",
    "        srcs.append(src)\n",
    "        # Transform xy to radec\n",
    "        ras, decs = dms[dm_idx].meta.wcs.get_transform('detector', 'world')(src['x'], src['y'])\n",
    "        # Attach to the datamodel \n",
    "        dms[dm_idx].catalog = Table([src['x'], src['y'], ras, decs], \n",
    "                                    names=['x', 'y', 'RA', 'DEC'])\n",
    "    # Run the code\n",
    "    tkreg_res = img3.tweakreg.run(dms.copy())\n",
    "    \n",
    "    # A 2nd run?\n",
    "    if run2:\n",
    "        for dm_idx, dm in enumerate(tkreg_res):\n",
    "            # Get the sources from 1st run\n",
    "            src = srcs[dm_idx]\n",
    "            # Transform xy to radec\n",
    "            ras, decs = tkreg_res[dm_idx].meta.wcs.get_transform('detector', 'world')(src['x'], src['y'])\n",
    "            # Attach to the datamodel \n",
    "            tkreg_res[dm_idx].catalog = Table([src['x'], src['y'], ras, decs], \n",
    "                                        names=['x', 'y', 'RA', 'DEC'])\n",
    "        tkreg_res = img3.tweakreg.run(tkreg_res)\n",
    "        \n",
    "    return tkreg_res"
   ]
  }
 ],
 "metadata": {
  "kernelspec": {
   "display_name": "Python 3 (ipykernel)",
   "language": "python",
   "name": "python3"
  },
  "language_info": {
   "codemirror_mode": {
    "name": "ipython",
    "version": 3
   },
   "file_extension": ".py",
   "mimetype": "text/x-python",
   "name": "python",
   "nbconvert_exporter": "python",
   "pygments_lexer": "ipython3",
   "version": "3.9.7"
  }
 },
 "nbformat": 4,
 "nbformat_minor": 5
}
