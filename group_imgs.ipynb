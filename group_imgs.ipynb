{
 "cells": [
  {
   "cell_type": "code",
   "execution_count": 1,
   "id": "456669cd",
   "metadata": {},
   "outputs": [],
   "source": [
    "def group_imgs(all_files, prop):\n",
    "    # Extract the needed property for each file\n",
    "    prop_strs = []\n",
    "    for f in all_files:\n",
    "        hd = fits.getheader(f)\n",
    "        if prop==\"band\":\n",
    "            prop_strs.append( hd['FILTER'] )\n",
    "        elif prop==\"field\":\n",
    "            prop_strs.append( hd['TARGPROP'].replace('NIRCAM-WFSS','MIRI') )\n",
    "        elif prop==\"field_band\":\n",
    "            prop_strs.append( hd['TARGPROP'].replace('NIRCAM-WFSS','MIRI') + \\\n",
    "                              '_' + hd['FILTER'] )\n",
    "        else:\n",
    "            ValueError(\"prop unknown\")\n",
    "            \n",
    "    # Group the files \n",
    "    groups = []\n",
    "    unq_prop_strs = list(set(prop_strs))\n",
    "    for prop_str in unq_prop_strs:\n",
    "        group = []\n",
    "        # Find the files with the prop_str\n",
    "        for file_idx, buf in enumerate(prop_strs):\n",
    "            if buf==prop_str: group.append( all_files[file_idx] )\n",
    "        groups.append(group)\n",
    "        \n",
    "    return groups, unq_prop_strs"
   ]
  },
  {
   "cell_type": "markdown",
   "id": "6ad0b9de",
   "metadata": {},
   "source": [
    "from astropy.io import fits\n",
    "from glob import glob\n",
    "output_dir = \"../data/reduced/\"\n",
    "\n",
    "stage1_files = sorted(glob(output_dir+'*_rate.fits'))\n",
    "\n",
    "flt_groups, flt_vals = group_imgs(stage1_files, 'field_band')\n",
    "flt_groups[ flt_vals.index('MIRI1_F770W') ]"
   ]
  }
 ],
 "metadata": {
  "@webio": {
   "lastCommId": null,
   "lastKernelId": null
  },
  "kernelspec": {
   "display_name": "Anaconda3 - 2021.11",
   "language": "python",
   "name": "python3-2021.11"
  },
  "language_info": {
   "codemirror_mode": {
    "name": "ipython",
    "version": 3
   },
   "file_extension": ".py",
   "mimetype": "text/x-python",
   "name": "python",
   "nbconvert_exporter": "python",
   "pygments_lexer": "ipython3",
   "version": "3.9.7"
  }
 },
 "nbformat": 4,
 "nbformat_minor": 5
}
