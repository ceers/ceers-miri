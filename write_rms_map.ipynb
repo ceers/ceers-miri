{
 "cells": [
  {
   "cell_type": "code",
   "execution_count": 1,
   "id": "8c3ee3c8",
   "metadata": {},
   "outputs": [],
   "source": [
    "import astroRMS"
   ]
  },
  {
   "cell_type": "code",
   "execution_count": 2,
   "id": "d0ae46e2",
   "metadata": {},
   "outputs": [],
   "source": [
    "def write_rms_map(i2d_file, input_type='wht'):\n",
    "    # Load sci/wht data\n",
    "    sci_hd = fits.getheader(i2d_file, 'sci')\n",
    "    sci_data = fits.getdata(i2d_file, 'sci')\n",
    "    wht_hd = fits.getheader(i2d_file, 'err')\n",
    "    # Choose the weight or error data\n",
    "    if input_type=='wht':\n",
    "        wht_data = fits.getdata(i2d_file, 'wht')\n",
    "    elif input_type=='err':\n",
    "        wht_data = 1 / fits.getdata(i2d_file, 'err')**2\n",
    "    else:\n",
    "        ValueError('input_type not known')\n",
    "    # Write temporary sci/wht files\n",
    "    sci_file = 'temp_sci.fits'\n",
    "    wht_file = 'temp_wht.fits'\n",
    "    fits.writeto(sci_file, sci_data, header=sci_hd, overwrite=True)\n",
    "    fits.writeto(wht_file, wht_data, header=wht_hd, overwrite=True)\n",
    "    # Run astroRMS\n",
    "    out_file = i2d_file.replace('i2d', 'rms')\n",
    "    astroRMS.create_error_map(sci_file, wht_file, out_file, map_type='rms')\n",
    "    # Clean up the temporary file\n",
    "    os.system('rm temp_sci.fits temp_wht.fits')\n",
    "    # Calculate the RMS scaling factor \n",
    "    rms_data = fits.getdata(out_file)\n",
    "    use_idxs = wht_data>0\n",
    "    err_scl_fac = (rms_data[use_idxs] / (1/wht_data[use_idxs])**0.5)[0]\n",
    "    return err_scl_fac\n"
   ]
  }
 ],
 "metadata": {
  "kernelspec": {
   "display_name": "jwst_pipeline",
   "language": "python",
   "name": "myenv"
  },
  "language_info": {
   "codemirror_mode": {
    "name": "ipython",
    "version": 3
   },
   "file_extension": ".py",
   "mimetype": "text/x-python",
   "name": "python",
   "nbconvert_exporter": "python",
   "pygments_lexer": "ipython3",
   "version": "3.10.4"
  }
 },
 "nbformat": 4,
 "nbformat_minor": 5
}
